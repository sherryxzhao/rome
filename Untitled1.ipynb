{
 "cells": [
  {
   "cell_type": "code",
   "execution_count": 1,
   "id": "fd429ef1",
   "metadata": {},
   "outputs": [
    {
     "name": "stdout",
     "output_type": "stream",
     "text": [
      "\n",
      "     active environment : base\n",
      "    active env location : /usr/local/pace-apps/manual/packages/anaconda3/2022.05\n",
      "            shell level : 1\n",
      "       user config file : /home/hice1/yyan376/.condarc\n",
      " populated config files : /home/hice1/yyan376/.condarc\n",
      "          conda version : 4.13.0\n",
      "    conda-build version : 3.21.8\n",
      "         python version : 3.9.12.final.0\n",
      "       virtual packages : __cuda=12.2=0\n",
      "                          __linux=3.10.0=0\n",
      "                          __glibc=2.17=0\n",
      "                          __unix=0=0\n",
      "                          __archspec=1=x86_64\n",
      "       base environment : /usr/local/pace-apps/manual/packages/anaconda3/2022.05  (read only)\n",
      "      conda av data dir : /usr/local/pace-apps/manual/packages/anaconda3/2022.05/etc/conda\n",
      "  conda av metadata url : None\n",
      "           channel URLs : https://repo.anaconda.com/pkgs/main/linux-64\n",
      "                          https://repo.anaconda.com/pkgs/main/noarch\n",
      "                          https://repo.anaconda.com/pkgs/r/linux-64\n",
      "                          https://repo.anaconda.com/pkgs/r/noarch\n",
      "          package cache : /home/hice1/yyan376/scratch/pkgs\n",
      "       envs directories : /home/hice1/yyan376/scratch/envs\n",
      "                          /home/hice1/yyan376/.conda/envs\n",
      "                          /usr/local/pace-apps/manual/packages/anaconda3/2022.05/envs\n",
      "               platform : linux-64\n",
      "             user-agent : conda/4.13.0 requests/2.27.1 CPython/3.9.12 Linux/3.10.0-1160.49.1.el7.x86_64 rhel/7.9 glibc/2.17\n",
      "                UID:GID : 3360555:2626\n",
      "             netrc file : None\n",
      "           offline mode : False\n",
      "\n"
     ]
    }
   ],
   "source": [
    "conda info"
   ]
  }
 ],
 "metadata": {
  "kernelspec": {
   "display_name": "Bash",
   "language": "bash",
   "name": "bash"
  },
  "language_info": {
   "codemirror_mode": "shell",
   "file_extension": ".sh",
   "mimetype": "text/x-sh",
   "name": "bash"
  }
 },
 "nbformat": 4,
 "nbformat_minor": 5
}

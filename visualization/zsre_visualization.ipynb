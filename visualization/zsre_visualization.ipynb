{
 "cells": [
  {
   "cell_type": "markdown",
   "metadata": {},
   "source": [
    "## Visualization code for max_edit_layer, zsre evaluation set"
   ]
  },
  {
   "cell_type": "code",
   "execution_count": 1,
   "metadata": {},
   "outputs": [
    {
     "name": "stdout",
     "output_type": "stream",
     "text": [
      "Intel MKL WARNING: Support of Intel(R) Streaming SIMD Extensions 4.2 (Intel(R) SSE4.2) enabled only processors has been deprecated. Intel oneAPI Math Kernel Library 2025.0 will require Intel(R) Advanced Vector Extensions (Intel(R) AVX) instructions.\n",
      "Intel MKL WARNING: Support of Intel(R) Streaming SIMD Extensions 4.2 (Intel(R) SSE4.2) enabled only processors has been deprecated. Intel oneAPI Math Kernel Library 2025.0 will require Intel(R) Advanced Vector Extensions (Intel(R) AVX) instructions.\n"
     ]
    }
   ],
   "source": [
    "import numpy as np\n",
    "import json\n",
    "import pandas as pd\n",
    "import seaborn"
   ]
  },
  {
   "cell_type": "code",
   "execution_count": 2,
   "metadata": {},
   "outputs": [],
   "source": [
    "records = []\n",
    "with open('./../dsets/zsre_comb.json', \"r\") as f:\n",
    "    for line in f:\n",
    "        records.append(json.loads(line))"
   ]
  },
  {
   "cell_type": "code",
   "execution_count": 3,
   "metadata": {},
   "outputs": [
    {
     "data": {
      "text/plain": [
       "18887"
      ]
     },
     "execution_count": 3,
     "metadata": {},
     "output_type": "execute_result"
    }
   ],
   "source": [
    "len(records)"
   ]
  },
  {
   "cell_type": "code",
   "execution_count": null,
   "metadata": {},
   "outputs": [],
   "source": [
    "len(records)"
   ]
  },
  {
   "cell_type": "code",
   "execution_count": 4,
   "metadata": {},
   "outputs": [
    {
     "data": {
      "text/plain": [
       "{'case_id': 0,\n",
       " 'requested_rewrite': {'prompt': 'What university did {} attend?',\n",
       "  'subject': 'Watts Humphrey',\n",
       "  'target_new': {'str': 'Illinois Institute of Technology'},\n",
       "  'target_true': {'str': '<|endoftext|>'},\n",
       "  'max_edit_layer': 16},\n",
       " 'paraphrase_prompts': ['What university did Watts Humphrey take part in?'],\n",
       " 'neighborhood_prompts': [{'prompt': 'nq question: who played desmond doss father in hacksaw ridge?',\n",
       "   'target': ' Hugo'},\n",
       "  {'prompt': 'nq question: who played desmond doss father in hacksaw ridge? Hugo',\n",
       "   'target': ' We'},\n",
       "  {'prompt': 'nq question: who played desmond doss father in hacksaw ridge? Hugo We',\n",
       "   'target': 'aving'}],\n",
       " 'attribute_prompts': [],\n",
       " 'generation_prompts': []}"
      ]
     },
     "execution_count": 4,
     "metadata": {},
     "output_type": "execute_result"
    }
   ],
   "source": [
    "records[0]"
   ]
  },
  {
   "cell_type": "code",
   "execution_count": 5,
   "metadata": {},
   "outputs": [],
   "source": [
    "df = pd.DataFrame.from_records(records, index=['case_id'])"
   ]
  },
  {
   "cell_type": "code",
   "execution_count": 10,
   "metadata": {},
   "outputs": [
    {
     "data": {
      "text/html": [
       "<div>\n",
       "<style scoped>\n",
       "    .dataframe tbody tr th:only-of-type {\n",
       "        vertical-align: middle;\n",
       "    }\n",
       "\n",
       "    .dataframe tbody tr th {\n",
       "        vertical-align: top;\n",
       "    }\n",
       "\n",
       "    .dataframe thead th {\n",
       "        text-align: right;\n",
       "    }\n",
       "</style>\n",
       "<table border=\"1\" class=\"dataframe\">\n",
       "  <thead>\n",
       "    <tr style=\"text-align: right;\">\n",
       "      <th></th>\n",
       "      <th>requested_rewrite</th>\n",
       "      <th>paraphrase_prompts</th>\n",
       "      <th>neighborhood_prompts</th>\n",
       "      <th>attribute_prompts</th>\n",
       "      <th>generation_prompts</th>\n",
       "    </tr>\n",
       "    <tr>\n",
       "      <th>case_id</th>\n",
       "      <th></th>\n",
       "      <th></th>\n",
       "      <th></th>\n",
       "      <th></th>\n",
       "      <th></th>\n",
       "    </tr>\n",
       "  </thead>\n",
       "  <tbody>\n",
       "    <tr>\n",
       "      <th>0</th>\n",
       "      <td>{'prompt': 'What university did {} attend?', '...</td>\n",
       "      <td>[What university did Watts Humphrey take part ...</td>\n",
       "      <td>[{'prompt': 'nq question: who played desmond d...</td>\n",
       "      <td>[]</td>\n",
       "      <td>[]</td>\n",
       "    </tr>\n",
       "    <tr>\n",
       "      <th>1</th>\n",
       "      <td>{'prompt': 'Which family does {} belong to?', ...</td>\n",
       "      <td>[What family are Ramalinaceae?]</td>\n",
       "      <td>[{'prompt': 'nq question: types of skiing in t...</td>\n",
       "      <td>[]</td>\n",
       "      <td>[]</td>\n",
       "    </tr>\n",
       "    <tr>\n",
       "      <th>2</th>\n",
       "      <td>{'prompt': 'What role does {} play in football...</td>\n",
       "      <td>[What's Denny Herzig's role in football?]</td>\n",
       "      <td>[{'prompt': 'nq question: where does aarp fall...</td>\n",
       "      <td>[]</td>\n",
       "      <td>[]</td>\n",
       "    </tr>\n",
       "    <tr>\n",
       "      <th>3</th>\n",
       "      <td>{'prompt': 'What artist created {}?', 'subject...</td>\n",
       "      <td>[Which artist created Call the Doctor?]</td>\n",
       "      <td>[{'prompt': 'nq question: who sang nice day fo...</td>\n",
       "      <td>[]</td>\n",
       "      <td>[]</td>\n",
       "    </tr>\n",
       "    <tr>\n",
       "      <th>4</th>\n",
       "      <td>{'prompt': 'Who was the designer of {}?', 'sub...</td>\n",
       "      <td>[The architect at Lahti Town Hall, who was that?]</td>\n",
       "      <td>[{'prompt': 'nq question: who sang the theme s...</td>\n",
       "      <td>[]</td>\n",
       "      <td>[]</td>\n",
       "    </tr>\n",
       "    <tr>\n",
       "      <th>...</th>\n",
       "      <td>...</td>\n",
       "      <td>...</td>\n",
       "      <td>...</td>\n",
       "      <td>...</td>\n",
       "      <td>...</td>\n",
       "    </tr>\n",
       "    <tr>\n",
       "      <th>19081</th>\n",
       "      <td>{'prompt': 'What was the name of the architect...</td>\n",
       "      <td>[Who is the architect for Hoge Heren?]</td>\n",
       "      <td>[{'prompt': 'nq question: the seed of a gymnos...</td>\n",
       "      <td>[]</td>\n",
       "      <td>[]</td>\n",
       "    </tr>\n",
       "    <tr>\n",
       "      <th>19082</th>\n",
       "      <td>{'prompt': 'When is the date of birth of {}?',...</td>\n",
       "      <td>[When's the birth date of Eliades Ochoa?]</td>\n",
       "      <td>[{'prompt': 'nq question: who is the guy on ke...</td>\n",
       "      <td>[]</td>\n",
       "      <td>[]</td>\n",
       "    </tr>\n",
       "    <tr>\n",
       "      <th>19083</th>\n",
       "      <td>{'prompt': 'Which describes the sex or gender ...</td>\n",
       "      <td>[What is the gender or sex of Rosslyn Range?]</td>\n",
       "      <td>[{'prompt': 'nq question: where do they film l...</td>\n",
       "      <td>[]</td>\n",
       "      <td>[]</td>\n",
       "    </tr>\n",
       "    <tr>\n",
       "      <th>19084</th>\n",
       "      <td>{'prompt': 'What sports team was {} a member o...</td>\n",
       "      <td>[In which sports team was Riki van Steeden mem...</td>\n",
       "      <td>[{'prompt': 'nq question: where do they film t...</td>\n",
       "      <td>[]</td>\n",
       "      <td>[]</td>\n",
       "    </tr>\n",
       "    <tr>\n",
       "      <th>19085</th>\n",
       "      <td>{'prompt': 'The genus {} is a part of what fam...</td>\n",
       "      <td>[The genus Phalangopsinae is a part of which f...</td>\n",
       "      <td>[{'prompt': 'nq question: what is the cross on...</td>\n",
       "      <td>[]</td>\n",
       "      <td>[]</td>\n",
       "    </tr>\n",
       "  </tbody>\n",
       "</table>\n",
       "<p>18887 rows × 5 columns</p>\n",
       "</div>"
      ],
      "text/plain": [
       "                                         requested_rewrite  \\\n",
       "case_id                                                      \n",
       "0        {'prompt': 'What university did {} attend?', '...   \n",
       "1        {'prompt': 'Which family does {} belong to?', ...   \n",
       "2        {'prompt': 'What role does {} play in football...   \n",
       "3        {'prompt': 'What artist created {}?', 'subject...   \n",
       "4        {'prompt': 'Who was the designer of {}?', 'sub...   \n",
       "...                                                    ...   \n",
       "19081    {'prompt': 'What was the name of the architect...   \n",
       "19082    {'prompt': 'When is the date of birth of {}?',...   \n",
       "19083    {'prompt': 'Which describes the sex or gender ...   \n",
       "19084    {'prompt': 'What sports team was {} a member o...   \n",
       "19085    {'prompt': 'The genus {} is a part of what fam...   \n",
       "\n",
       "                                        paraphrase_prompts  \\\n",
       "case_id                                                      \n",
       "0        [What university did Watts Humphrey take part ...   \n",
       "1                          [What family are Ramalinaceae?]   \n",
       "2                [What's Denny Herzig's role in football?]   \n",
       "3                  [Which artist created Call the Doctor?]   \n",
       "4        [The architect at Lahti Town Hall, who was that?]   \n",
       "...                                                    ...   \n",
       "19081               [Who is the architect for Hoge Heren?]   \n",
       "19082            [When's the birth date of Eliades Ochoa?]   \n",
       "19083        [What is the gender or sex of Rosslyn Range?]   \n",
       "19084    [In which sports team was Riki van Steeden mem...   \n",
       "19085    [The genus Phalangopsinae is a part of which f...   \n",
       "\n",
       "                                      neighborhood_prompts attribute_prompts  \\\n",
       "case_id                                                                        \n",
       "0        [{'prompt': 'nq question: who played desmond d...                []   \n",
       "1        [{'prompt': 'nq question: types of skiing in t...                []   \n",
       "2        [{'prompt': 'nq question: where does aarp fall...                []   \n",
       "3        [{'prompt': 'nq question: who sang nice day fo...                []   \n",
       "4        [{'prompt': 'nq question: who sang the theme s...                []   \n",
       "...                                                    ...               ...   \n",
       "19081    [{'prompt': 'nq question: the seed of a gymnos...                []   \n",
       "19082    [{'prompt': 'nq question: who is the guy on ke...                []   \n",
       "19083    [{'prompt': 'nq question: where do they film l...                []   \n",
       "19084    [{'prompt': 'nq question: where do they film t...                []   \n",
       "19085    [{'prompt': 'nq question: what is the cross on...                []   \n",
       "\n",
       "        generation_prompts  \n",
       "case_id                     \n",
       "0                       []  \n",
       "1                       []  \n",
       "2                       []  \n",
       "3                       []  \n",
       "4                       []  \n",
       "...                    ...  \n",
       "19081                   []  \n",
       "19082                   []  \n",
       "19083                   []  \n",
       "19084                   []  \n",
       "19085                   []  \n",
       "\n",
       "[18887 rows x 5 columns]"
      ]
     },
     "execution_count": 10,
     "metadata": {},
     "output_type": "execute_result"
    }
   ],
   "source": [
    "df"
   ]
  },
  {
   "cell_type": "code",
   "execution_count": 15,
   "metadata": {},
   "outputs": [],
   "source": [
    "df['max_edit_layer'] = df.apply(lambda row: row.requested_rewrite['max_edit_layer'], axis=1)"
   ]
  },
  {
   "cell_type": "code",
   "execution_count": 16,
   "metadata": {},
   "outputs": [
    {
     "name": "stderr",
     "output_type": "stream",
     "text": [
      "/Users/sherryzhao/opt/anaconda3/envs/310/lib/python3.10/site-packages/seaborn/_oldcore.py:1498: FutureWarning: is_categorical_dtype is deprecated and will be removed in a future version. Use isinstance(dtype, CategoricalDtype) instead\n",
      "  if pd.api.types.is_categorical_dtype(vector):\n",
      "/Users/sherryzhao/opt/anaconda3/envs/310/lib/python3.10/site-packages/seaborn/_oldcore.py:1498: FutureWarning: is_categorical_dtype is deprecated and will be removed in a future version. Use isinstance(dtype, CategoricalDtype) instead\n",
      "  if pd.api.types.is_categorical_dtype(vector):\n",
      "/Users/sherryzhao/opt/anaconda3/envs/310/lib/python3.10/site-packages/seaborn/_oldcore.py:1498: FutureWarning: is_categorical_dtype is deprecated and will be removed in a future version. Use isinstance(dtype, CategoricalDtype) instead\n",
      "  if pd.api.types.is_categorical_dtype(vector):\n",
      "/Users/sherryzhao/opt/anaconda3/envs/310/lib/python3.10/site-packages/seaborn/_oldcore.py:1498: FutureWarning: is_categorical_dtype is deprecated and will be removed in a future version. Use isinstance(dtype, CategoricalDtype) instead\n",
      "  if pd.api.types.is_categorical_dtype(vector):\n",
      "/Users/sherryzhao/opt/anaconda3/envs/310/lib/python3.10/site-packages/seaborn/_oldcore.py:1498: FutureWarning: is_categorical_dtype is deprecated and will be removed in a future version. Use isinstance(dtype, CategoricalDtype) instead\n",
      "  if pd.api.types.is_categorical_dtype(vector):\n",
      "/Users/sherryzhao/opt/anaconda3/envs/310/lib/python3.10/site-packages/seaborn/_oldcore.py:1119: FutureWarning: use_inf_as_na option is deprecated and will be removed in a future version. Convert inf values to NaN before operating instead.\n",
      "  with pd.option_context('mode.use_inf_as_na', True):\n"
     ]
    },
    {
     "data": {
      "text/plain": [
       "<Axes: ylabel='Count'>"
      ]
     },
     "execution_count": 16,
     "metadata": {},
     "output_type": "execute_result"
    },
    {
     "data": {
      "image/png": "[encoded data removed]",
      "text/plain": [
       "<Figure size 640x480 with 1 Axes>"
      ]
     },
     "metadata": {},
     "output_type": "display_data"
    }
   ],
   "source": [
    "seaborn.histplot(data=df[['max_edit_layer']])"
   ]
  },
  {
   "cell_type": "code",
   "execution_count": 21,
   "metadata": {},
   "outputs": [],
   "source": [
    "df['prompt_length'] = df.apply(lambda row: len(row.requested_rewrite['prompt'].replace('{}', row.requested_rewrite['subject'])), axis=1)\n",
    "df['subject_length'] = df.apply(lambda row: len(row.requested_rewrite['subject']), axis=1)"
   ]
  },
  {
   "cell_type": "code",
   "execution_count": 22,
   "metadata": {},
   "outputs": [
    {
     "data": {
      "text/html": [
       "<div>\n",
       "<style scoped>\n",
       "    .dataframe tbody tr th:only-of-type {\n",
       "        vertical-align: middle;\n",
       "    }\n",
       "\n",
       "    .dataframe tbody tr th {\n",
       "        vertical-align: top;\n",
       "    }\n",
       "\n",
       "    .dataframe thead th {\n",
       "        text-align: right;\n",
       "    }\n",
       "</style>\n",
       "<table border=\"1\" class=\"dataframe\">\n",
       "  <thead>\n",
       "    <tr style=\"text-align: right;\">\n",
       "      <th></th>\n",
       "      <th>max_edit_layer</th>\n",
       "      <th>prompt_length</th>\n",
       "      <th>subject_length</th>\n",
       "    </tr>\n",
       "  </thead>\n",
       "  <tbody>\n",
       "    <tr>\n",
       "      <th>max_edit_layer</th>\n",
       "      <td>1.000000</td>\n",
       "      <td>-0.045475</td>\n",
       "      <td>-0.043287</td>\n",
       "    </tr>\n",
       "    <tr>\n",
       "      <th>prompt_length</th>\n",
       "      <td>-0.045475</td>\n",
       "      <td>1.000000</td>\n",
       "      <td>0.593098</td>\n",
       "    </tr>\n",
       "    <tr>\n",
       "      <th>subject_length</th>\n",
       "      <td>-0.043287</td>\n",
       "      <td>0.593098</td>\n",
       "      <td>1.000000</td>\n",
       "    </tr>\n",
       "  </tbody>\n",
       "</table>\n",
       "</div>"
      ],
      "text/plain": [
       "                max_edit_layer  prompt_length  subject_length\n",
       "max_edit_layer        1.000000      -0.045475       -0.043287\n",
       "prompt_length        -0.045475       1.000000        0.593098\n",
       "subject_length       -0.043287       0.593098        1.000000"
      ]
     },
     "execution_count": 22,
     "metadata": {},
     "output_type": "execute_result"
    }
   ],
   "source": [
    "df[['max_edit_layer', 'prompt_length', 'subject_length']].corr()"
   ]
  },
  {
   "cell_type": "code",
   "execution_count": null,
   "metadata": {},
   "outputs": [],
   "source": [
    "seaborn.set(rc={'figure.figsize':(15,10)})\n",
    "seaborn.scatterplot(data=df[['relation_id', 'max_edit_layer']], x='relation_id',y='edit_layer', hue='relation_id')"
   ]
  },
  {
   "cell_type": "code",
   "execution_count": null,
   "metadata": {},
   "outputs": [],
   "source": [
    "seaborn.set(rc={'figure.figsize':(10,6)})\n",
    "seaborn.kdeplot(df[['relation_id', 'edit_layer']])"
   ]
  }
 ],
 "metadata": {
  "kernelspec": {
   "display_name": "310",
   "language": "python",
   "name": "python3"
  },
  "language_info": {
   "codemirror_mode": {
    "name": "ipython",
    "version": 3
   },
   "file_extension": ".py",
   "mimetype": "text/x-python",
   "name": "python",
   "nbconvert_exporter": "python",
   "pygments_lexer": "ipython3",
   "version": "3.10.13"
  }
 },
 "nbformat": 4,
 "nbformat_minor": 2
}
